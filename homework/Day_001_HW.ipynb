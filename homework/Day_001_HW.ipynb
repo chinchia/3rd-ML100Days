{
 "cells": [
  {
   "cell_type": "code",
   "execution_count": 1,
   "metadata": {},
   "outputs": [
    {
     "name": "stdout",
     "output_type": "stream",
     "text": [
      "The Mean squared error is 236.942\n"
     ]
    }
   ],
   "source": [
    "# MSE solution\n",
    "\n",
    "import numpy as np\n",
    "\n",
    "def mean_squared_error(y, yp):\n",
    "    MSE = 1 / len(y) * sum((y-yp)**2)\n",
    "    return MSE\n",
    "\n",
    "w = 3\n",
    "b = 0.5\n",
    "x_lin = np.linspace(0, 100, 101)\n",
    "y = (x_lin + np.random.randn(101) * 5) * w + b\n",
    "y_hat = x_lin * w + b\n",
    "\n",
    "MSE = mean_squared_error(y, y_hat)\n",
    "print(\"The Mean squared error is %.3f\" % (MSE))"
   ]
  },
  {
   "cell_type": "code",
   "execution_count": null,
   "metadata": {},
   "outputs": [],
   "source": [
    "\"\"\"\n",
    "Kaggle Dataset\n",
    "\n",
    "choosed dataset: ImageNet\n",
    "choose from ImageNet Object Localization Challenge Competition\n",
    "\n",
    "1. Why is this dataset important?\n",
    "\n",
    "    The competition of the ImageNet dataset has been hold annually since 2010, which was considered as \n",
    "    one of the most important competition of visual recognition since then. AlexNet, an seven layer CNN, \n",
    "    was an important breakthrough during the competition of year 2012. Then, many important algorithms \n",
    "    had created, such as GoogleNet, VGG, etc., for the purpose of solving the visual recognition problems \n",
    "    of the dataset.    \n",
    "    \n",
    "2. Where does the dataset come from?\n",
    "\n",
    "    The ImageNet dataset was put together by the research team of Fei-Fei Li, professor of computer \n",
    "    science at Standford University. It is an large-scale image database organized according to the \n",
    "    WordNet hierarchy. Each node of the hierarchy is depicted by over five hundred images.\n",
    "\n",
    "3. What are the data types of the dataset?\n",
    "\n",
    "    The training and validation data both contains two columns, ImageId and PredictionString. The ImageId \n",
    "    is types of string and the PredictionString is a space delimited of 5 integers, \n",
    "    e.g. (1000 240 170 260 240).\n",
    "\n",
    "4. How to evaluate the problems want to be solved?\n",
    "\n",
    "    The problem was evaluated by error, e=mini(minj(max(dij,fij))), where i and j are both subscripts.\n",
    "        d=0 if the labels of the two boxes are the same, d=1 otherwise;\n",
    "        f=0 if the overlap of the two boxes >= 50%, f=1 otherwise;\n",
    "        i is the predicted labels/bounding boxes;\n",
    "        j is the ground truth labels/bounding boxes\n",
    "\n",
    "\"\"\""
   ]
  },
  {
   "cell_type": "code",
   "execution_count": null,
   "metadata": {},
   "outputs": [],
   "source": [
    "\"\"\"\n",
    "operating an fleet\n",
    "\n",
    "1. What is the key problem?\n",
    "\n",
    "    (1) assumption(the key problem): the utilization rate of the fleets are less than 60%\n",
    "    (2) definition of sales performance improvement: improve the utilization rate of the fleets up to 80%\n",
    "\n",
    "2. Where do the data come from?\n",
    "\n",
    "    Data includes the regions where the fleets are serving, the amounts of travelers for each region, and \n",
    "    the distributionof each type of transportation in different regions. All of the data can gathered from \n",
    "    the internal information of the company, except the amounts of travelers for each region should be \n",
    "    acquired from the open data of the government.\n",
    "\n",
    "3. What are the data types?\n",
    "\n",
    "    (1) the regions where the fleets are serving: string types\n",
    "    (2) the amounts of travelers for each region: numeric types\n",
    "    (3) the distribution of each type of transportation in different regions: numeric types\n",
    "\n",
    "4. How to evaluate the key problems?\n",
    "\n",
    "    The problem can be evaluated by the MSE. We can create a basic regression model, to check if the \n",
    "    amounts of travelers for each region and the distribution of each type of transportation in different \n",
    "    regions, do affect the utilization rate of the fleets, and measure the regression model by the MSE.\n",
    "\n",
    "\"\"\""
   ]
  }
 ],
 "metadata": {
  "kernelspec": {
   "display_name": "Python 3",
   "language": "python",
   "name": "python3"
  },
  "language_info": {
   "codemirror_mode": {
    "name": "ipython",
    "version": 3
   },
   "file_extension": ".py",
   "mimetype": "text/x-python",
   "name": "python",
   "nbconvert_exporter": "python",
   "pygments_lexer": "ipython3",
   "version": "3.7.3"
  }
 },
 "nbformat": 4,
 "nbformat_minor": 2
}
