{
 "cells": [
  {
   "cell_type": "code",
   "execution_count": null,
   "metadata": {},
   "outputs": [],
   "source": [
    "\"\"\"\n",
    "article: An On-device Deep Neural Network for Face Detection\n",
    "            November 2017, by Computer Vision Machine Learning Team\n",
    "\n",
    "1. purpose of the project\n",
    "\n",
    "    Due to Apple’s strong commitment to user privacy, they couldn’t use iCloud servers for computer vision \n",
    "    computations of face detection. Thus, they faced several challenges:\n",
    "    1. The deep-learning models need to be shipped as part of the operating system, taking up valuable \n",
    "    NAND storage space.\n",
    "    2. The deep-learning models need to be loaded into RAM and require significant computational time on \n",
    "    the GPU and/or CPU.\n",
    "    3. On-device computation must take place while sharing these system resources with other running\n",
    "    applications.\n",
    "    4. The computation must be efficient enough to process a large Photos library in a reasonably short \n",
    "    amount of time, but without significant power usage or thermal increase.\n",
    "\n",
    "2. technique used\n",
    "\n",
    "    teacher-student training:\n",
    "    1. teacher (a big complex network)\n",
    "        A revised deep convolutional networks(DCN) architecture based on OverFeat, comprised of:\n",
    "        (1) A binary classification to predict the presence or absence of a face in the input.\n",
    "        (2) A regression to predict the bounding box parameters that best localized the face in the input.\n",
    "    2. student (a thin-and-deep network)\n",
    "        Composed of a simple repeating structure of 3x3 convolutions and pooling layers.\n",
    "\n",
    "3. data resources\n",
    "\n",
    "    The article does not tell.\n",
    "\n",
    "\"\"\""
   ]
  }
 ],
 "metadata": {
  "kernelspec": {
   "display_name": "Python 3",
   "language": "python",
   "name": "python3"
  },
  "language_info": {
   "codemirror_mode": {
    "name": "ipython",
    "version": 3
   },
   "file_extension": ".py",
   "mimetype": "text/x-python",
   "name": "python",
   "nbconvert_exporter": "python",
   "pygments_lexer": "ipython3",
   "version": "3.7.3"
  }
 },
 "nbformat": 4,
 "nbformat_minor": 2
}
