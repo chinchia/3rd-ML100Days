{
 "cells": [
  {
   "cell_type": "code",
   "execution_count": null,
   "metadata": {},
   "outputs": [],
   "source": [
    "\"\"\"\n",
    "an promising field for machine learning: face anti-spoofing (face presentation attack detection)\n",
    "\n",
    "reasons:\n",
    "    1. Face recognition has been developed well recent years. There are more and more applications \n",
    "    of face recognition in our daily lives such as cellphones, door security, ATM, etc. These \n",
    "    results in people with bad intentions trying to use some fake photos, videos replays , or even \n",
    "    3D masks to unlock the systems. Thus, face anti-spoofing becomes a serious security problem \n",
    "    recently.\n",
    "    2. There are still a lack of large-scale datasets for anti-spoofing nowadays. Training from \n",
    "    small datasets cannot meet the expectations normally. Fortunately, the datasets will only grow \n",
    "    larger and larger in this era of information explosion.\n",
    "    3. The major algorithm of face anti-spoofing is convolutional neural network(CNN). Thanks to \n",
    "    the researches of face recognition, algorithms derived from CNN has improved significantly \n",
    "    since the early 21st century. The neural networks has got deeper and deeper, and the computation \n",
    "    ability of GPU has grown faster and faster. These achievements brings tremendous amount of \n",
    "    benifits for the face anti-spoofing.\n",
    "\n",
    "\"\"\""
   ]
  }
 ],
 "metadata": {
  "kernelspec": {
   "display_name": "Python 3",
   "language": "python",
   "name": "python3"
  },
  "language_info": {
   "codemirror_mode": {
    "name": "ipython",
    "version": 3
   },
   "file_extension": ".py",
   "mimetype": "text/x-python",
   "name": "python",
   "nbconvert_exporter": "python",
   "pygments_lexer": "ipython3",
   "version": "3.7.3"
  }
 },
 "nbformat": 4,
 "nbformat_minor": 2
}
